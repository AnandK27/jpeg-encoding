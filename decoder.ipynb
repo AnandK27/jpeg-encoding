{
 "cells": [
  {
   "cell_type": "code",
   "execution_count": 1,
   "metadata": {},
   "outputs": [],
   "source": [
    "import argparse\n",
    "import math\n",
    "import numpy as np\n",
    "from utils import *\n",
    "from scipy import fftpack\n",
    "from PIL import Image\n",
    "import sys"
   ]
  },
  {
   "cell_type": "code",
   "execution_count": 2,
   "metadata": {},
   "outputs": [],
   "source": [
    "class JPEGFileReader:\n",
    "    TABLE_SIZE_BITS = 16\n",
    "    BLOCKS_COUNT_BITS = 32\n",
    "\n",
    "    DC_CODE_LENGTH_BITS = 4\n",
    "    CATEGORY_BITS = 4\n",
    "\n",
    "    AC_CODE_LENGTH_BITS = 8\n",
    "    RUN_LENGTH_BITS = 4\n",
    "    SIZE_BITS = 4\n",
    "\n",
    "    def __init__(self, filepath):\n",
    "        self.__file = open(filepath, 'r')\n",
    "\n",
    "    def read_int(self, size):\n",
    "        if size == 0:\n",
    "            return 0\n",
    "\n",
    "        # the most significant bit indicates the sign of the number\n",
    "        bin_num = self.__read_str(size)\n",
    "        if bin_num[0] == '1':\n",
    "            return self.__int2(bin_num)\n",
    "        else:\n",
    "            return self.__int2(binstr_flip(bin_num)) * -1\n",
    "\n",
    "    def read_dc_table(self):\n",
    "        table = dict()\n",
    "\n",
    "        table_size = self.__read_uint(self.TABLE_SIZE_BITS)\n",
    "        for _ in range(table_size):\n",
    "            category = self.__read_uint(self.CATEGORY_BITS)\n",
    "            code_length = self.__read_uint(self.DC_CODE_LENGTH_BITS)\n",
    "            code = self.__read_str(code_length)\n",
    "            table[code] = category\n",
    "        return table\n",
    "\n",
    "    def read_ac_table(self):\n",
    "        table = dict()\n",
    "\n",
    "        table_size = self.__read_uint(self.TABLE_SIZE_BITS)\n",
    "        for _ in range(table_size):\n",
    "            run_length = self.__read_uint(self.RUN_LENGTH_BITS)\n",
    "            size = self.__read_uint(self.SIZE_BITS)\n",
    "            code_length = self.__read_uint(self.AC_CODE_LENGTH_BITS)\n",
    "            code = self.__read_str(code_length)\n",
    "            table[code] = (run_length, size)\n",
    "        return table\n",
    "\n",
    "    def read_blocks_count(self):\n",
    "        return self.__read_uint(self.BLOCKS_COUNT_BITS)\n",
    "\n",
    "    def read_huffman_code(self, table):\n",
    "        prefix = ''\n",
    "        # TODO: break the loop if __read_char is not returing new char\n",
    "        while prefix not in table:\n",
    "            prefix += self.__read_char()\n",
    "        return table[prefix]\n",
    "\n",
    "    def __read_uint(self, size):\n",
    "        if size <= 0:\n",
    "            raise ValueError(\"size of unsigned int should be greater than 0\")\n",
    "        return self.__int2(self.__read_str(size))\n",
    "\n",
    "    def __read_str(self, length):\n",
    "        return self.__file.read(length)\n",
    "\n",
    "    def __read_char(self):\n",
    "        return self.__read_str(1)\n",
    "\n",
    "    def __int2(self, bin_num):\n",
    "        return int(bin_num, 2)\n",
    "\n",
    "\n",
    "def read_image_file(filepath):\n",
    "    reader = JPEGFileReader(filepath)\n",
    "\n",
    "    tables = dict()\n",
    "    for table_name in ['dc_y', 'ac_y', 'dc_c', 'ac_c']:\n",
    "        if 'dc' in table_name:\n",
    "            tables[table_name] = reader.read_dc_table()\n",
    "        else:\n",
    "            tables[table_name] = reader.read_ac_table()\n",
    "\n",
    "    blocks_count = reader.read_blocks_count()\n",
    "\n",
    "    dc = np.empty((blocks_count, 3), dtype=np.int32)\n",
    "    ac = np.empty((blocks_count, 63, 3), dtype=np.int32)\n",
    "\n",
    "    for block_index in range(blocks_count):\n",
    "        for component in range(3):\n",
    "            dc_table = tables['dc_y'] if component == 0 else tables['dc_c']\n",
    "            ac_table = tables['ac_y'] if component == 0 else tables['ac_c']\n",
    "\n",
    "            category = reader.read_huffman_code(dc_table)\n",
    "            dc[block_index, component] = reader.read_int(category)\n",
    "\n",
    "            cells_count = 0\n",
    "\n",
    "            # TODO: try to make reading AC coefficients better\n",
    "            while cells_count < 63:\n",
    "                run_length, size = reader.read_huffman_code(ac_table)\n",
    "\n",
    "                if (run_length, size) == (0, 0):\n",
    "                    while cells_count < 63:\n",
    "                        ac[block_index, cells_count, component] = 0\n",
    "                        cells_count += 1\n",
    "                else:\n",
    "                    for i in range(run_length):\n",
    "                        ac[block_index, cells_count, component] = 0\n",
    "                        cells_count += 1\n",
    "                    if size == 0:\n",
    "                        ac[block_index, cells_count, component] = 0\n",
    "                    else:\n",
    "                        value = reader.read_int(size)\n",
    "                        ac[block_index, cells_count, component] = value\n",
    "                    cells_count += 1\n",
    "\n",
    "    return dc, ac, tables, blocks_count\n",
    "\n",
    "\n",
    "def zigzag_to_block(zigzag):\n",
    "    # assuming that the width and the height of the block are equal\n",
    "    rows = cols = int(math.sqrt(len(zigzag)))\n",
    "\n",
    "    if rows * cols != len(zigzag):\n",
    "        raise ValueError(\"length of zigzag should be a perfect square\")\n",
    "\n",
    "    block = np.empty((rows, cols), np.int32)\n",
    "\n",
    "    for i, point in enumerate(zigzag_points(rows, cols)):\n",
    "        block[point] = zigzag[i]\n",
    "\n",
    "    return block\n",
    "\n",
    "\n",
    "def dequantize(block, component):\n",
    "    q = load_quantization_table(component)\n",
    "    return block * q\n",
    "\n",
    "\n",
    "def idct_2d(image):\n",
    "    return fftpack.idct(fftpack.idct(image.T, norm='ortho').T, norm='ortho')\n",
    "\n"
   ]
  },
  {
   "cell_type": "code",
   "execution_count": 3,
   "metadata": {},
   "outputs": [
    {
     "name": "stdout",
     "output_type": "stream",
     "text": [
      "16784084 and 266524\n",
      "Wall time: 5.65 s\n"
     ]
    }
   ],
   "source": [
    "%%time\n",
    "dc, ac, tables, blocks_count = read_image_file('op/file_3.txt')\n",
    "\n",
    "# assuming that the block is a 8x8 square\n",
    "block_side = 8\n",
    "\n",
    "# assuming that the image height and width are equal\n",
    "image_side = int(math.sqrt(blocks_count)) * block_side\n",
    "\n",
    "blocks_per_line = image_side // block_side\n",
    "\n",
    "npmat = np.empty((image_side, image_side, 3), dtype=np.uint8)\n",
    "print(f\"{sys.getsizeof(ac)} and {sys.getsizeof(dc)}\")\n"
   ]
  },
  {
   "cell_type": "code",
   "execution_count": 4,
   "metadata": {},
   "outputs": [
    {
     "name": "stdout",
     "output_type": "stream",
     "text": [
      "4262720\n",
      "Wall time: 40.1 s\n"
     ]
    }
   ],
   "source": [
    "%%time\n",
    "for block_index in range(blocks_count):\n",
    "    i = block_index // blocks_per_line * block_side\n",
    "    j = block_index % blocks_per_line * block_side\n",
    "\n",
    "    for c in range(3):\n",
    "        zigzag = [dc[block_index, c]] + list(ac[block_index, :, c])\n",
    "        quant_matrix = zigzag_to_block(zigzag)\n",
    "        dct_matrix = dequantize(quant_matrix, 'lum' if c == 0 else 'chrom')\n",
    "        block = idct_2d(dct_matrix)\n",
    "        npmat[i:i+8, j:j+8, c] = quant_matrix + 128\n",
    "        \n",
    "print(f\"{sys.getsizeof(npmat)}\")\n"
   ]
  },
  {
   "cell_type": "code",
   "execution_count": 5,
   "metadata": {},
   "outputs": [
    {
     "name": "stdout",
     "output_type": "stream",
     "text": [
      "4262720\n"
     ]
    }
   ],
   "source": [
    "# %%time\n",
    "image = Image.fromarray(npmat, 'YCbCr')\n",
    "image = image.convert('RGB')\n",
    "mat = np.array(image,dtype=np.uint8)\n",
    "print(f\"{sys.getsizeof(mat)}\")"
   ]
  },
  {
   "cell_type": "code",
   "execution_count": 6,
   "metadata": {},
   "outputs": [],
   "source": [
    "# import sys\n",
    "# print(sys.getsizeof(image))"
   ]
  },
  {
   "cell_type": "code",
   "execution_count": null,
   "metadata": {},
   "outputs": [],
   "source": []
  },
  {
   "cell_type": "code",
   "execution_count": 7,
   "metadata": {},
   "outputs": [],
   "source": [
    "# from io import BytesIO\n",
    "# img_file = BytesIO()\n",
    "# image.save(img_file, format='bmp')\n",
    "# image_file_size = img_file.tell()"
   ]
  },
  {
   "cell_type": "code",
   "execution_count": 8,
   "metadata": {},
   "outputs": [],
   "source": [
    "# print(image_file_size)"
   ]
  },
  {
   "cell_type": "code",
   "execution_count": null,
   "metadata": {},
   "outputs": [],
   "source": []
  }
 ],
 "metadata": {
  "interpreter": {
   "hash": "ef40b345585cedea6e54b9c94f92a32daafc26f719921996f44994044db82e76"
  },
  "kernelspec": {
   "display_name": "Python 3.8.8 64-bit",
   "name": "python3"
  },
  "language_info": {
   "codemirror_mode": {
    "name": "ipython",
    "version": 3
   },
   "file_extension": ".py",
   "mimetype": "text/x-python",
   "name": "python",
   "nbconvert_exporter": "python",
   "pygments_lexer": "ipython3",
   "version": "3.8.8"
  },
  "orig_nbformat": 4
 },
 "nbformat": 4,
 "nbformat_minor": 2
}
